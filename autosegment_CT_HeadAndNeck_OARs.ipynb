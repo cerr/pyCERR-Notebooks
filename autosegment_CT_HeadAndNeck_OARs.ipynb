{
  "cells": [
   {
          "cell_type": "markdown",
          "metadata": {
            "id": "view-in-github"
          },
          "source": [
            "<a href=\"https://colab.research.google.com/github/cerr/pycerr-notebooks/blob/main/autosegment_CT_HeadAndNeck_OARs.ipynb\" target=\"_parent\"><img src=\"https://colab.research.google.com/assets/colab-badge.svg\" alt=\"Open In Colab\"/></a>"
          ]
    },
    {
      "cell_type": "markdown",
      "metadata": {
        "id": "kNoydh-RsgcD"
      },
      "source": [
        "# Introduction\n",
        "\n",
        "This tutorial demonstrates deep learning-based auto-segmentation of organs at risk (OARs) in RT treatment of head and neck cancers, using validated, open-source models.\n",
        "\n",
        "## Requirements\n",
        "* Python>=3.8\n",
        "* Although these models can be run on a CPU, GPU access is recommended for efficiency.\n",
        "  To use a GPU on Colab:  Select `Runtime` > `Change runtime type > Select GPU `\n",
        "* Data I/O, pre- and post-processing are performed using [***pyCERR***](https://github.com/cerr/pyCERR) .\n",
        "\n",
        "## I/O\n",
        "* **Input**: NIfTI or DICOM-format head and neck CT scans(s).  \n",
        "  \n",
        "* **Output**: NIfTI or DICOM RTStruct-format segmentations.  \n",
        "  \n",
        "Input DICOM images should be organized in directories (one per patient).      \n",
        "  \n",
        "    \n",
        "    Input dir\n",
        "            |------Pat1  \n",
        "                      |------img1.dcm  \n",
        "                             img2.dcm  \n",
        "                             ....  \n",
        "                             ....  \n",
        "            |-----Pat2  \n",
        "                     |------img1.dcm  \n",
        "                            img2.dcm  \n",
        "                            ....  \n",
        "                            ....  \n",
        "\n",
        "\n",
        "Input NIfTI images should be organized in a directory with one file per patient.      \n",
        "  \n",
	"    \n",
	"    Input dir\n",
	"             |------pt1.nii  \n",
	"             |------pt2.nii  \n",
	"             |------pt3.nii  \n",
	"                            ....  \n",
	"                            ....  \n",
	"\n",
        "\n",
        "## AI models\n",
        "* The segmentation models used here were trained and validated on CT scans used for RT planning. Its performance on diagnostic scans is expected to be sub-optimal.  \n",
        "* Trained models are distributed along with packaged Conda environment archives containing python libraries and other dependencies.\n",
        "\n",
        "### Installing and running the models\n",
        "\n",
        "* Installation is performed using CERR's [***model installer***]( https://github.com/cerr/model_installer).  \n",
        "\n",
        "* A Conda archive containing dependencies is downloaded to the `conda-pack`   \n",
        "  sub-directory of a configurable `scriptInstallDir`.  \n",
        "  By default `condaEnvPath = '/content/CT_HeadAndNeck_OARs/conda-pack'`\n",
        "  \n",
        "*  Inference scripts are located at\n",
        "  `deeplabScriptPath = os.path.join(condaEnvPath,'model_wrapper', run_inference_deeplab_nii.py')`   \n",
        "  `selfAttnScriptPath = os.path.join(condaEnvPath,'model_wrapper', run_inference_selfattn_nii.py')`  \n",
        "\n",
        "* Run commands\n",
        "```python\n",
        "!python {deeplabScriptPath} {input_directory} {temp_session_directory} {output_directory}\n",
        "```\n",
        "```\n",
        "!python {selfAttnScriptPath} {input_directory} {temp_session_directory} {output_directory}\n",
        "```"
      ]
    },
    {
      "cell_type": "markdown",
      "metadata": {
        "id": "6GVYj7k5e97G"
      },
      "source": [
        "## License\n",
        "\n",
        "By downloading the software you are agreeing to the following terms and conditions as well as to the Terms of Use of CERR software.\n",
        "\n",
        "**`THE SOFTWARE IS PROVIDED \"AS IS\" AND CERR DEVELOPMENT TEAM AND ITS COLLABORATORS DO NOT MAKE ANY WARRANTY, EXPRESS OR IMPLIED, INCLUDING BUT NOT LIMITED TO WARRANTIES OF MERCHANTABILITY AND FITNESS FOR A PARTICULAR PURPOSE, NOR DO THEY ASSUME ANY LIABILITY OR RESPONSIBILITY FOR THE USE OF THIS SOFTWARE.`**\n",
        "\n",
        "`This software is for research purposes only and has not been approved for clinical use.`\n",
        "\n",
        "`Software has not been reviewed or approved by the Food and Drug Administration, and is for non-clinical, IRB-approved Research Use Only. In no event shall data or images generated through the use of the Software be used in the provision of patient care.`\n",
        "  \n",
        "`YOU MAY NOT DISTRIBUTE COPIES of this software, or copies of software derived from this software, to others outside your organization without specific prior written permission from the CERR development team except where noted for specific software products.`\n",
        "\n",
        "`All Technology and technical data delivered under this Agreement are subject to US export control laws and may be subject to export or import regulations in other countries. You agree to comply strictly with all such laws and regulations and acknowledge that you have the responsibility to obtain\n",
        "such licenses to export, re-export, or import as may be required after delivery to you.`\n",
        "\n",
        "**`You may publish papers and books using results produced using software provided you cite the following`**:\n",
        "  \n",
        "  * **AI models**: https://doi.org/10.1088/1361-6560/ac4000  \n",
        "      https://doi.org/10.48550/arXiv.1909.05054  \n",
        "                     \n",
        "  * **CERR model library**: https://doi.org/10.1016/j.ejmp.2020.04.011  \n",
        "\n"
      ]
    },
    {
      "cell_type": "markdown",
      "metadata": {
        "id": "35nEDWKTg5c1"
      },
      "source": [
        "# Downloads"
      ]
    },
    {
      "cell_type": "markdown",
      "metadata": {
        "id": "DsKXYI-dsgcK"
      },
      "source": [
        "### Install ***pyCERR***\n",
        "\n",
        "pyCERR handles data import/export, pre- and post-processing transformations."
      ]
    },
    {
      "cell_type": "code",
      "source": [
        "%%capture\n",
        "!pip install \"pyCERR[napari] @ git+https://github.com/cerr/pyCERR.git@testing\""
      ],
      "metadata": {
        "id": "mSoC0TDuiLjD"
      },
      "execution_count": null,
      "outputs": []
    },
    {
      "cell_type": "markdown",
      "metadata": {
        "id": "mP6FHznIg7Yd"
      },
      "source": [
        "\n",
        "## Prepare input data\n",
        "We will use the sample head & neck CT dataset distributed with pyCERR for this demo."
      ]
    },
    {
      "cell_type": "code",
      "source": [
        "import os\n",
        "workDir = r'/content' # For Colab"
      ],
      "metadata": {
        "id": "FYaSj6fcqqxZ"
      },
      "execution_count": null,
      "outputs": []
    },
    {
      "cell_type": "code",
      "execution_count": null,
      "metadata": {
        "id": "CWaGs8LqhZTD"
      },
      "outputs": [],
      "source": [
        "inputDicomPath = '/usr/local/lib/python3.12/dist-packages/cerr/datasets/sample_ct/head_and_neck'"
      ]
    },
    {
      "cell_type": "markdown",
      "metadata": {
        "id": "VSvE1KsTj9do"
      },
      "source": [
        "### Define output directory and session directory (used to store intermediate files generated during inference)"
      ]
    },
    {
      "cell_type": "code",
      "execution_count": null,
      "metadata": {
        "id": "iHbUWoUEj1A2"
      },
      "outputs": [],
      "source": [
        "AIoutputPath = os.path.join(workDir, 'AIoutput')\n",
        "# Paths to temporary session dierectory for intermediate processing steps\n",
        "sessionPathDeepLab = os.path.join(workDir, 'tempDL')\n",
        "sessionPathSelfAttn = os.path.join(workDir, 'tempSA')\n",
        "\n",
        "if not os.path.exists(AIoutputPath):\n",
        "  os.mkdir(AIoutputPath)\n",
        "\n",
        "if not os.path.exists(sessionPathDeepLab):\n",
        "  os.mkdir(sessionPathDeepLab)\n",
        "if not os.path.exists(sessionPathSelfAttn):\n",
        "  os.mkdir(sessionPathSelfAttn)"
      ]
    },
    {
      "cell_type": "markdown",
      "source": [
        "## Download pre-trained model, inference scripts, and packaged conda evnironment to ***scriptInstallDir***\n"
      ],
      "metadata": {
        "id": "FC5pCpVa65lK"
      }
    },
    {
      "cell_type": "code",
      "source": [
        "%%capture\n",
        "\n",
        "# Download model installer\n",
        "os.chdir(workDir)\n",
        "!git clone https://github.com/cerr/model_installer.git\n",
        "os.chdir(os.path.join(workDir,'model_installer'))\n",
        "\n",
        "# Install CT HN OAR model\n",
        "!./installer.sh\n",
        "modelOpt = '6'  # CT_HeadAndNeck_OARs\n",
        "pythonOpt = 'C' # Download packaged Conda environment\n",
        "\n",
        "! source ./installer.sh -m {modelOpt} -d {workDir} -p {pythonOpt}"
      ],
      "metadata": {
        "id": "32VHeXVxTmt6"
      },
      "execution_count": null,
      "outputs": []
    },
    {
      "cell_type": "code",
      "source": [
        "# Location of inference script\n",
        "scriptInstallDir = os.path.join(workDir, 'CT_HeadAndNeck_OARs')\n",
        "deeplabScriptPath = os.path.join(scriptInstallDir,\n",
        "                         'model_wrapper',\n",
        "                         'run_inference_deeplab_nii.py')\n",
        "selfattnScriptPath = os.path.join(scriptInstallDir,\n",
        "                         'model_wrapper',\n",
        "                         'run_inference_selfattn_nii.py')\n",
        "\n",
        "# Location of Conda archive\n",
        "condaEnvPath = os.path.join(scriptInstallDir, 'conda-pack')\n",
        "\n",
        "# Location of activation script for Conda environment\n",
        "activateScript = os.path.join(condaEnvPath,'bin','activate')"
      ],
      "metadata": {
        "id": "xuDuWRX9T1Co"
      },
      "execution_count": null,
      "outputs": []
    },
    {
      "cell_type": "markdown",
      "metadata": {
        "id": "zj7t-J4isgcQ"
      },
      "source": [
        "# Segment OARs"
      ]
    },
    {
      "cell_type": "markdown",
      "source": [
        "### Map structure names to labels"
      ],
      "metadata": {
        "id": "hpJCvsZYAs4-"
      }
    },
    {
      "cell_type": "code",
      "source": [
        "label_dict1 = {1: \"Left masseter\", 2: \"Right masseter\",\n",
        "               3: \"Left medial pterygoid\", 4: \"Right medial pterygoid\"}\n",
        "label_dict2 = {1: \"Larynx\"}\n",
        "label_dict3 = {1: \"Pharyngeal constrictor\"}\n",
        "label_dict4 = {1:\"Left Parotid\", 2:\"Right Parotid\",\n",
        "               3:\"Left Submandible\", 4:\"Right Submandible\",\n",
        "               7:\"Mandible\", 8:\"Spinal cord\",\n",
        "               9:\"Brain stem\", 10:\"Oral cavity\"}\n",
        "label_dict_list = [label_dict1, label_dict2, label_dict3, label_dict4]"
      ],
      "metadata": {
        "id": "tCNt7dQQAsUh"
      },
      "execution_count": null,
      "outputs": []
    },
    {
      "cell_type": "markdown",
      "metadata": {
        "id": "_XVVLPjBkYI0"
      },
      "source": [
        "## Apply AI models to input cohort"
      ]
    },
    {
      "cell_type": "markdown",
      "source": [
        "### Example 1. DICOM inputs\n",
        "Segment a cohort of DICOM datasets in ***inputDicomPath*** and write auto-segmentation results to ***AIoutputPath***"
      ],
      "metadata": {
        "id": "NiS4Z57aOmNk"
      }
    },
    {
      "cell_type": "code",
      "source": [
        "import subprocess\n",
        "import numpy as np\n",
        "\n",
        "import cerr.plan_container as pc\n",
        "from cerr.dataclasses import scan as cerrScn\n",
        "from cerr.dcm_export import rtstruct_iod\n",
        "from cerr.utils.ai_pipeline import createSessionDir, getScanNumFromIdentifier\n",
        "\n",
        "modality = 'CT'\n",
        "scanNum = 0\n",
        "\n",
        "# Loop over pt directories\n",
        "ptList = os.listdir(inputDicomPath)\n",
        "numDirs = len(ptList)\n",
        "\n",
        "for iDir in range(numDirs):\n",
        "\n",
        "    ptDirName = ptList[iDir]\n",
        "    dcmDir = os.path.join(inputDicomPath, ptDirName)\n",
        "\n",
        "    # Identify CT scan\n",
        "    identifier = {'imageType':'CT SCAN'}\n",
        "    planC = pc.loadDcmDir(dcmDir)\n",
        "    scanNum = getScanNumFromIdentifier(identifier, planC)[0]\n",
        "\n",
        "    #---------------------\n",
        "    # Run DeepLab models\n",
        "    #----------------------\n",
        "    #Create session dir to store temporary data\n",
        "    modInputPath, __ = createSessionDir(sessionPathDeepLab,\n",
        "                                        inputDicomPath)\n",
        "    # Export scan to NII\n",
        "    scanFilename = os.path.join(modInputPath,\n",
        "                                f\"{ptDirName}_scan_3D.nii.gz\")\n",
        "    planC.scan[scanNum].saveNii(scanFilename)\n",
        "    # AI inference\n",
        "    result1 = subprocess.run(f\"source {activateScript} && python {deeplabScriptPath}\\\n",
        "                            {scanFilename} {sessionPathDeepLab} {AIoutputPath}\",\\\n",
        "                            capture_output=True, shell=True, executable=\"/bin/bash\")\n",
        "\n",
        "    #-------------------------\n",
        "    # Run self-attention model\n",
        "    #-------------------------\n",
        "    #Create session dir to store temporary data\n",
        "    modInputPath, __ = createSessionDir(sessionPathSelfAttn,\n",
        "                                        inputDicomPath)\n",
        "    # Export scan to NII\n",
        "    scanFilename = os.path.join(modInputPath,\n",
        "                                f\"{ptDirName}_scan_3D.nii.gz\")\n",
        "    planC.scan[scanNum].saveNii(scanFilename)\n",
        "\n",
        "    # AI inference\n",
        "    result2 = subprocess.run(f\"source {activateScript} && python {selfattnScriptPath}\\\n",
        "                            {scanFilename} {sessionPathSelfAttn} {AIoutputPath}\",\\\n",
        "                            capture_output=False, shell=True, executable=\"/bin/bash\")"
      ],
      "metadata": {
        "colab": {
          "base_uri": "https://localhost:8080/"
        },
        "id": "p9KLzfFNsNBW",
        "outputId": "0a137ee9-6f26-42d9-abec-374e1f779a7f"
      },
      "execution_count": null,
      "outputs": [
        {
          "output_type": "stream",
          "name": "stdout",
          "text": [
            "('head_neck_ex1_20may03', 'head_neck_ex1_20may03', '1.3.6.1.4.1.9590.100.1.2.177262030823659402286834416667116608890', '1.3.6.1.4.1.9590.100.1.2.201636966012610494422346635703513250063', 'CT', '', '', '', '', '', '', '', 'None')\n"
          ]
        }
      ]
    },
    {
      "cell_type": "markdown",
      "source": [
        "### Example 2: NIfTI inputs"
      ],
      "metadata": {
        "id": "ApVbfnDNMwCf"
      }
    },
    {
      "cell_type": "markdown",
      "source": [
        "Segment a cohort of NIfTI files located at ***inputNiiPath*** and write auto-segmentation results to ***AIoutputPath***"
      ],
      "metadata": {
        "id": "zVlW-EpsgZDI"
      }
    },
    {
      "cell_type": "code",
      "execution_count": null,
      "metadata": {
        "id": "WCuUi5D6sgcS"
      },
      "outputs": [],
      "source": [
        "# # Locate batch script for NIfTI inputs\n",
        "# batchOARsScriptPath = os.path.join(scriptInstallDir,\n",
        "#                          'model_wrapper',\n",
        "#                          'batch_run_inference_hn_oars_nii.py')\n",
        "\n",
        "# # Specify input dir\n",
        "# inputNiiPath = r'/your/path/here'\n",
        "\n",
        "# # Create session dir\n",
        "# batchSessionPath = os.path.join(workDir, 'tempOARs')\n",
        "# if not os.path.exists(batchSessionPath):\n",
        "#   os.mkdir(batchSessionPath)\n",
        "\n",
        "# # AI inference\n",
        "# result = subprocess.run(f\"source {activateScript} && python {batchOARsScriptPath}\\\n",
        "#                   {inputNiiPath} {batchSessionPath} {AIoutputPath}\",\\\n",
        "#                    capture_output=False, shell=True, executable=\"/bin/bash\")"
      ]
    },
    {
      "cell_type": "markdown",
      "metadata": {
        "id": "Kugws3KBl4MK"
      },
      "source": [
        "### **Optional**: Uncomment to download the output segmentation masks to your workspace bucket."
      ]
    },
    {
      "cell_type": "code",
      "execution_count": null,
      "metadata": {
        "id": "_nkTBkijl23J"
      },
      "outputs": [],
      "source": [
        "# workspaceBucket = os.environ['WORKSPACE_BUCKET']\n",
        "# !gcloud storage cp -r {outputDicomPath} {workspaceBucket}"
      ]
    },
    {
      "cell_type": "markdown",
      "metadata": {
        "id": "iLzFp-l_sgcT"
      },
      "source": [
        "# Display results"
      ]
    },
    {
      "cell_type": "markdown",
      "metadata": {
        "id": "L8FTwNqhsgcT"
      },
      "source": [
        "## Overlay AI segmentations on scan for visualization using ***Matplotlib***\n",
        "\n",
        "Note: This example displays the last segmented dataset by default.    \n",
        "Load the appropriate pyCERR archive to `planC` to view results for desired dataset."
      ]
    },
    {
      "cell_type": "code",
      "source": [
        "%%capture\n",
        "# Import AI-genereated masks\n",
        "maskFiles = ['chew_AI_seg','larynx_AI_seg','cm_AI_seg','self_attn_AI_seg']\n",
        "origNumStructs = len(planC.structure)\n",
        "\n",
        "for maskNum in range(len(maskFiles)):\n",
        "  maskFileName = f\"{ptDirName}_scan_3D_{maskFiles[maskNum]}.nii.gz\"\n",
        "  maskFilePath = os.path.join(AIoutputPath,maskFileName)\n",
        "  planC = pc.loadNiiStructure(maskFilePath, scanNum, planC, labels_dict=label_dict_list[maskNum])\n",
        "\n",
        "newNumStructs = len(planC.structure)"
      ],
      "metadata": {
        "id": "8X07IN7Yw-8W"
      },
      "execution_count": null,
      "outputs": []
    },
    {
      "cell_type": "code",
      "source": [
        "from cerr.viewer import showMplNb\n",
        "\n",
        "showMplNb(planC=planC, scanNum=scanNum,\n",
        "          structNums=np.arange(origNumStructs,newNumStructs),\n",
        "          windowCenter=50, windowWidth=450)"
      ],
      "metadata": {
        "colab": {
          "base_uri": "https://localhost:8080/",
          "height": 438,
          "referenced_widgets": [
            "fbc8fda644844b2aa31a3898d9fd7239",
            "8624d43836aa4bcc8b5db627bb79b200",
            "69925cf67ba74f5c91fb3db14ec7b047",
            "69bb6169f26343469a8e7d66183bde16",
            "f3cf9039e6ee47f6b9a4be6f2d38c7a7",
            "73c04fe0ec834bb0bebd1a0021e28a79",
            "143e20f611ee486b8ebfd75641c39acb",
            "b2a4c436dfe34659acf77281f940b231",
            "5c8c0b8c617b4b16b97138363a36c02e",
            "332f5d782f1a4f16a41272b59bda26c5",
            "3bd1cdd22a2f4dedbf007f14d8e4b93e",
            "70b53f2ac55d4619ae14b27ed8d9b8b6",
            "e0b6099b261a4d3baa166e4fe1082fe3"
          ]
        },
        "id": "d9JsEf1SQNcr",
        "outputId": "bbc25ed7-6834-4fe6-8ee8-fc3b26b9a24d"
      },
      "execution_count": null,
      "outputs": [
        {
          "output_type": "display_data",
          "data": {
            "text/plain": [
              "HBox(children=(Dropdown(description='view', options=('Axial', 'Sagittal', 'Coronal'), value='Axial'), IntSlide…"
            ],
            "application/vnd.jupyter.widget-view+json": {
              "version_major": 2,
              "version_minor": 0,
              "model_id": "fbc8fda644844b2aa31a3898d9fd7239"
            }
          },
          "metadata": {}
        },
        {
          "output_type": "display_data",
          "data": {
            "text/plain": [
              "Output()"
            ],
            "application/vnd.jupyter.widget-view+json": {
              "version_major": 2,
              "version_minor": 0,
              "model_id": "70b53f2ac55d4619ae14b27ed8d9b8b6"
            }
          },
          "metadata": {}
        }
      ]
    }
  ],
  "metadata": {
    "colab": {
      "provenance": [],
      "gpuType": "T4"
    },
    "kernelspec": {
      "display_name": "Python 3",
      "name": "python3"
    },
    "language_info": {
      "codemirror_mode": {
        "name": "ipython",
        "version": 3
      },
      "file_extension": ".py",
      "mimetype": "text/x-python",
      "name": "python",
      "nbconvert_exporter": "python",
      "pygments_lexer": "ipython3",
      "version": "3.11.9"
    },
    "toc": {
      "base_numbering": 1,
      "nav_menu": {},
      "number_sections": true,
      "sideBar": true,
      "skip_h1_title": false,
      "title_cell": "Table of Contents",
      "title_sidebar": "Contents",
      "toc_cell": false,
      "toc_position": {},
      "toc_section_display": true,
      "toc_window_display": false
    },
    "widgets": {
      "application/vnd.jupyter.widget-state+json": {
      	"state": {},
        "fbc8fda644844b2aa31a3898d9fd7239": {
          "model_module": "@jupyter-widgets/controls",
          "model_name": "HBoxModel",
          "model_module_version": "1.5.0",
          "state": {
            "_dom_classes": [],
            "_model_module": "@jupyter-widgets/controls",
            "_model_module_version": "1.5.0",
            "_model_name": "HBoxModel",
            "_view_count": null,
            "_view_module": "@jupyter-widgets/controls",
            "_view_module_version": "1.5.0",
            "_view_name": "HBoxView",
            "box_style": "",
            "children": [
              "IPY_MODEL_8624d43836aa4bcc8b5db627bb79b200",
              "IPY_MODEL_69925cf67ba74f5c91fb3db14ec7b047",
              "IPY_MODEL_69bb6169f26343469a8e7d66183bde16"
            ],
            "layout": "IPY_MODEL_f3cf9039e6ee47f6b9a4be6f2d38c7a7"
          }
        },
        "8624d43836aa4bcc8b5db627bb79b200": {
          "model_module": "@jupyter-widgets/controls",
          "model_name": "DropdownModel",
          "model_module_version": "1.5.0",
          "state": {
            "_dom_classes": [],
            "_model_module": "@jupyter-widgets/controls",
            "_model_module_version": "1.5.0",
            "_model_name": "DropdownModel",
            "_options_labels": [
              "Axial",
              "Sagittal",
              "Coronal"
            ],
            "_view_count": null,
            "_view_module": "@jupyter-widgets/controls",
            "_view_module_version": "1.5.0",
            "_view_name": "DropdownView",
            "description": "view",
            "description_tooltip": null,
            "disabled": false,
            "index": 0,
            "layout": "IPY_MODEL_73c04fe0ec834bb0bebd1a0021e28a79",
            "style": "IPY_MODEL_143e20f611ee486b8ebfd75641c39acb"
          }
        },
        "69925cf67ba74f5c91fb3db14ec7b047": {
          "model_module": "@jupyter-widgets/controls",
          "model_name": "IntSliderModel",
          "model_module_version": "1.5.0",
          "state": {
            "_dom_classes": [],
            "_model_module": "@jupyter-widgets/controls",
            "_model_module_version": "1.5.0",
            "_model_name": "IntSliderModel",
            "_view_count": null,
            "_view_module": "@jupyter-widgets/controls",
            "_view_module_version": "1.5.0",
            "_view_name": "IntSliderView",
            "continuous_update": true,
            "description": "slcNum",
            "description_tooltip": null,
            "disabled": false,
            "layout": "IPY_MODEL_b2a4c436dfe34659acf77281f940b231",
            "max": 90,
            "min": 1,
            "orientation": "horizontal",
            "readout": true,
            "readout_format": "d",
            "step": 1,
            "style": "IPY_MODEL_5c8c0b8c617b4b16b97138363a36c02e",
            "value": 45
          }
        },
        "69bb6169f26343469a8e7d66183bde16": {
          "model_module": "@jupyter-widgets/controls",
          "model_name": "FloatSliderModel",
          "model_module_version": "1.5.0",
          "state": {
            "_dom_classes": [],
            "_model_module": "@jupyter-widgets/controls",
            "_model_module_version": "1.5.0",
            "_model_name": "FloatSliderModel",
            "_view_count": null,
            "_view_module": "@jupyter-widgets/controls",
            "_view_module_version": "1.5.0",
            "_view_name": "FloatSliderView",
            "continuous_update": true,
            "description": "doseAlpha",
            "description_tooltip": null,
            "disabled": false,
            "layout": "IPY_MODEL_332f5d782f1a4f16a41272b59bda26c5",
            "max": 1,
            "min": 0,
            "orientation": "horizontal",
            "readout": true,
            "readout_format": ".2f",
            "step": 0.02,
            "style": "IPY_MODEL_3bd1cdd22a2f4dedbf007f14d8e4b93e",
            "value": 0.5
          }
        },
        "f3cf9039e6ee47f6b9a4be6f2d38c7a7": {
          "model_module": "@jupyter-widgets/base",
          "model_name": "LayoutModel",
          "model_module_version": "1.2.0",
          "state": {
            "_model_module": "@jupyter-widgets/base",
            "_model_module_version": "1.2.0",
            "_model_name": "LayoutModel",
            "_view_count": null,
            "_view_module": "@jupyter-widgets/base",
            "_view_module_version": "1.2.0",
            "_view_name": "LayoutView",
            "align_content": null,
            "align_items": null,
            "align_self": null,
            "border": null,
            "bottom": null,
            "display": null,
            "flex": null,
            "flex_flow": null,
            "grid_area": null,
            "grid_auto_columns": null,
            "grid_auto_flow": null,
            "grid_auto_rows": null,
            "grid_column": null,
            "grid_gap": null,
            "grid_row": null,
            "grid_template_areas": null,
            "grid_template_columns": null,
            "grid_template_rows": null,
            "height": null,
            "justify_content": null,
            "justify_items": null,
            "left": null,
            "margin": null,
            "max_height": null,
            "max_width": null,
            "min_height": null,
            "min_width": null,
            "object_fit": null,
            "object_position": null,
            "order": null,
            "overflow": null,
            "overflow_x": null,
            "overflow_y": null,
            "padding": null,
            "right": null,
            "top": null,
            "visibility": null,
            "width": null
          }
        },
        "73c04fe0ec834bb0bebd1a0021e28a79": {
          "model_module": "@jupyter-widgets/base",
          "model_name": "LayoutModel",
          "model_module_version": "1.2.0",
          "state": {
            "_model_module": "@jupyter-widgets/base",
            "_model_module_version": "1.2.0",
            "_model_name": "LayoutModel",
            "_view_count": null,
            "_view_module": "@jupyter-widgets/base",
            "_view_module_version": "1.2.0",
            "_view_name": "LayoutView",
            "align_content": null,
            "align_items": null,
            "align_self": null,
            "border": null,
            "bottom": null,
            "display": null,
            "flex": null,
            "flex_flow": null,
            "grid_area": null,
            "grid_auto_columns": null,
            "grid_auto_flow": null,
            "grid_auto_rows": null,
            "grid_column": null,
            "grid_gap": null,
            "grid_row": null,
            "grid_template_areas": null,
            "grid_template_columns": null,
            "grid_template_rows": null,
            "height": null,
            "justify_content": null,
            "justify_items": null,
            "left": null,
            "margin": null,
            "max_height": null,
            "max_width": null,
            "min_height": null,
            "min_width": null,
            "object_fit": null,
            "object_position": null,
            "order": null,
            "overflow": null,
            "overflow_x": null,
            "overflow_y": null,
            "padding": null,
            "right": null,
            "top": null,
            "visibility": null,
            "width": null
          }
        },
        "143e20f611ee486b8ebfd75641c39acb": {
          "model_module": "@jupyter-widgets/controls",
          "model_name": "DescriptionStyleModel",
          "model_module_version": "1.5.0",
          "state": {
            "_model_module": "@jupyter-widgets/controls",
            "_model_module_version": "1.5.0",
            "_model_name": "DescriptionStyleModel",
            "_view_count": null,
            "_view_module": "@jupyter-widgets/base",
            "_view_module_version": "1.2.0",
            "_view_name": "StyleView",
            "description_width": ""
          }
        },
        "b2a4c436dfe34659acf77281f940b231": {
          "model_module": "@jupyter-widgets/base",
          "model_name": "LayoutModel",
          "model_module_version": "1.2.0",
          "state": {
            "_model_module": "@jupyter-widgets/base",
            "_model_module_version": "1.2.0",
            "_model_name": "LayoutModel",
            "_view_count": null,
            "_view_module": "@jupyter-widgets/base",
            "_view_module_version": "1.2.0",
            "_view_name": "LayoutView",
            "align_content": null,
            "align_items": null,
            "align_self": null,
            "border": null,
            "bottom": null,
            "display": null,
            "flex": null,
            "flex_flow": null,
            "grid_area": null,
            "grid_auto_columns": null,
            "grid_auto_flow": null,
            "grid_auto_rows": null,
            "grid_column": null,
            "grid_gap": null,
            "grid_row": null,
            "grid_template_areas": null,
            "grid_template_columns": null,
            "grid_template_rows": null,
            "height": null,
            "justify_content": null,
            "justify_items": null,
            "left": null,
            "margin": null,
            "max_height": null,
            "max_width": null,
            "min_height": null,
            "min_width": null,
            "object_fit": null,
            "object_position": null,
            "order": null,
            "overflow": null,
            "overflow_x": null,
            "overflow_y": null,
            "padding": null,
            "right": null,
            "top": null,
            "visibility": null,
            "width": null
          }
        },
        "5c8c0b8c617b4b16b97138363a36c02e": {
          "model_module": "@jupyter-widgets/controls",
          "model_name": "SliderStyleModel",
          "model_module_version": "1.5.0",
          "state": {
            "_model_module": "@jupyter-widgets/controls",
            "_model_module_version": "1.5.0",
            "_model_name": "SliderStyleModel",
            "_view_count": null,
            "_view_module": "@jupyter-widgets/base",
            "_view_module_version": "1.2.0",
            "_view_name": "StyleView",
            "description_width": "",
            "handle_color": null
          }
        },
        "332f5d782f1a4f16a41272b59bda26c5": {
          "model_module": "@jupyter-widgets/base",
          "model_name": "LayoutModel",
          "model_module_version": "1.2.0",
          "state": {
            "_model_module": "@jupyter-widgets/base",
            "_model_module_version": "1.2.0",
            "_model_name": "LayoutModel",
            "_view_count": null,
            "_view_module": "@jupyter-widgets/base",
            "_view_module_version": "1.2.0",
            "_view_name": "LayoutView",
            "align_content": null,
            "align_items": null,
            "align_self": null,
            "border": null,
            "bottom": null,
            "display": null,
            "flex": null,
            "flex_flow": null,
            "grid_area": null,
            "grid_auto_columns": null,
            "grid_auto_flow": null,
            "grid_auto_rows": null,
            "grid_column": null,
            "grid_gap": null,
            "grid_row": null,
            "grid_template_areas": null,
            "grid_template_columns": null,
            "grid_template_rows": null,
            "height": null,
            "justify_content": null,
            "justify_items": null,
            "left": null,
            "margin": null,
            "max_height": null,
            "max_width": null,
            "min_height": null,
            "min_width": null,
            "object_fit": null,
            "object_position": null,
            "order": null,
            "overflow": null,
            "overflow_x": null,
            "overflow_y": null,
            "padding": null,
            "right": null,
            "top": null,
            "visibility": null,
            "width": null
          }
        },
        "3bd1cdd22a2f4dedbf007f14d8e4b93e": {
          "model_module": "@jupyter-widgets/controls",
          "model_name": "SliderStyleModel",
          "model_module_version": "1.5.0",
          "state": {
            "_model_module": "@jupyter-widgets/controls",
            "_model_module_version": "1.5.0",
            "_model_name": "SliderStyleModel",
            "_view_count": null,
            "_view_module": "@jupyter-widgets/base",
            "_view_module_version": "1.2.0",
            "_view_name": "StyleView",
            "description_width": "",
            "handle_color": null
          }
        },
        "70b53f2ac55d4619ae14b27ed8d9b8b6": {
          "model_module": "@jupyter-widgets/output",
          "model_name": "OutputModel",
          "model_module_version": "1.0.0",
          "state": {
            "_dom_classes": [],
            "_model_module": "@jupyter-widgets/output",
            "_model_module_version": "1.0.0",
            "_model_name": "OutputModel",
            "_view_count": null,
            "_view_module": "@jupyter-widgets/output",
            "_view_module_version": "1.0.0",
            "_view_name": "OutputView",
            "layout": "IPY_MODEL_e0b6099b261a4d3baa166e4fe1082fe3",
            "msg_id": "",
            "outputs": [
              {
                "output_type": "display_data",
                "data": {
                  "text/plain": "<Figure size 640x480 with 1 Axes>",
                  "image/png": "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\n"
                },
                "metadata": {}
              }
            ]
          }
        },
        "e0b6099b261a4d3baa166e4fe1082fe3": {
          "model_module": "@jupyter-widgets/base",
          "model_name": "LayoutModel",
          "model_module_version": "1.2.0",
          "state": {
            "_model_module": "@jupyter-widgets/base",
            "_model_module_version": "1.2.0",
            "_model_name": "LayoutModel",
            "_view_count": null,
            "_view_module": "@jupyter-widgets/base",
            "_view_module_version": "1.2.0",
            "_view_name": "LayoutView",
            "align_content": null,
            "align_items": null,
            "align_self": null,
            "border": null,
            "bottom": null,
            "display": null,
            "flex": null,
            "flex_flow": null,
            "grid_area": null,
            "grid_auto_columns": null,
            "grid_auto_flow": null,
            "grid_auto_rows": null,
            "grid_column": null,
            "grid_gap": null,
            "grid_row": null,
            "grid_template_areas": null,
            "grid_template_columns": null,
            "grid_template_rows": null,
            "height": null,
            "justify_content": null,
            "justify_items": null,
            "left": null,
            "margin": null,
            "max_height": null,
            "max_width": null,
            "min_height": null,
            "min_width": null,
            "object_fit": null,
            "object_position": null,
            "order": null,
            "overflow": null,
            "overflow_x": null,
            "overflow_y": null,
            "padding": null,
            "right": null,
            "top": null,
            "visibility": null,
            "width": null
          }
        }
      }
    },
    "accelerator": "GPU"
  },
  "nbformat": 4,
  "nbformat_minor": 0
}
