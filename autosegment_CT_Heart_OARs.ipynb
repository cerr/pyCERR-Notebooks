{
  "cells": [
    {
     "cell_type": "markdown",
     "metadata": {
      "colab_type": "text",
      "id": "view-in-github"
     },
     "source": [
      "<a href=\"https://colab.research.google.com/github/cerr/pyCERR-Notebooks/blob/main/autosegment_CT_Heart_OARs.ipynb\" target=\"_parent\"><img src=\"https://colab.research.google.com/assets/colab-badge.svg\" alt=\"Open In Colab\"/></a>"
     ]
    },
    {
      "cell_type": "markdown",
      "metadata": {
        "id": "kNoydh-RsgcD"
      },
      "source": [
        "# The pyCERR DeepLab Heart Substurcture CT OAR Segmentation Model\n",
        "\n",
        "In this tutorial, we will demonstrate how to apply a pre-trained AI model to segment the Heart sub-structures on a lung CT scan using pyCERR.\n",
        "\n",
        "## Software Requirements\n",
        "* Python>=3.8\n",
        "* Applying this model requires access to a GPU.  \n",
        "\n",
        "## Input Data Requirements\n",
        "* RT planning DICOM CT\n",
        "* RTSTRUCT with lung contour\n",
        "\n",
        "## AI model\n",
        "* The segmentation model was trained and validated on CT scans used for RT planning. It does not work optimally on diagnostic CTs or scans in positions other than Head First Supine.\n",
        "* The trained model is distributed along with python libraries and other dependencies via a conda package.\n",
        "\n",
        "### Running the model\n",
        "\n",
        "Update locations of input data and model directorues in section 2 of this notebook.\n",
        "* Conda packge is location: condaEnvDir\n",
        "* Inference script location: wrapperPath\n",
        "* Inference script args\n",
        "```python\n",
        "!python {wrapperPath} {input_nii_directory} {output_nii_directory}\n",
        "```\n",
        "\n",
        "### License\n",
        "By downloading the software you are agreeing to the following terms and conditions as well as to the Terms of Use of CERR software.\n",
        "\n",
        "THE SOFTWARE IS PROVIDED \"AS IS\" AND CERR DEVELOPMENT TEAM AND ITS COLLABORATORS DO NOT MAKE ANY WARRANTY, EXPRESS OR IMPLIED, INCLUDING BUT NOT LIMITED TO WARRANTIES OF MERCHANTABILITY AND FITNESS FOR A PARTICULAR PURPOSE, NOR DO THEY ASSUME ANY LIABILITY OR RESPONSIBILITY FOR THE USE OF THIS SOFTWARE.\n",
        "    \n",
        "This software is for research purposes only and has not been approved for clinical use.\n",
        "\n",
        "Software has not been reviewed or approved by the Food and Drug Administration, and is for non-clinical, IRB-approved Research Use Only. In no event shall data or images generated through the use of the Software be used in the provision of patient care.\n",
        "\n",
        "You may publish papers and books using results produced using software provided that you reference the appropriate citations:\n",
        "*  Heart sub-structures model: https://doi.org/10.1016/j.phro.2020.05.009\n",
        "*  CERR library of model implementations: https://doi.org/10.1016/j.ejmp.2020.04.011\n",
        "*  CERR software: https://doi.org/10.1118/1.1568978\n",
        "*  CERR radiomics: https://doi.org/10.1002/mp.13046\n",
        "\n",
        "\n",
        "YOU MAY NOT DISTRIBUTE COPIES of this software, or copies of software derived from this software, to others outside your organization without specific prior written permission from the CERR development team except where noted for specific software products.\n",
        "\n",
        "All Technology and technical data delivered under this Agreement are subject to US export control laws and may be subject to export or import regulations in other countries. You agree to comply strictly with all such laws and regulations and acknowledge that you have the responsibility to obtain such licenses to export, re-export, or import as may be required after delivery to you.\n",
        "\n"
      ]
    },
    {
      "cell_type": "markdown",
      "metadata": {
        "id": "WSpNk-BrYlbD"
      },
      "source": [
        "##  Define paths for input DICOM, output segmentation and session directories\n",
        "\n",
        "Specify paths to the DICOM input data, desired output directory, and temporary (session) directory used to store intermediate results. The input data is structures such that DICOM per patient scan is in an individual directory.\n",
        "\n",
        "&nbsp;&nbsp;Input Directory  \n",
        "&nbsp;&nbsp;&nbsp;&nbsp;Pat1  \n",
        "&nbsp;&nbsp;&nbsp;&nbsp;&nbsp;&nbsp;&nbsp;img1.dcm  \n",
        "&nbsp;&nbsp;&nbsp;&nbsp;&nbsp;&nbsp;&nbsp;img2.dcm  \n",
        "&nbsp;&nbsp;&nbsp;&nbsp;&nbsp;&nbsp;&nbsp;....  \n",
        "&nbsp;&nbsp;&nbsp;&nbsp;&nbsp;&nbsp;&nbsp;....  \n",
        "&nbsp;&nbsp;&nbsp;&nbsp;Pat2  \n",
        "&nbsp;&nbsp;&nbsp;&nbsp;&nbsp;&nbsp;&nbsp;img1.dcm  \n",
        "&nbsp;&nbsp;&nbsp;&nbsp;&nbsp;&nbsp;&nbsp;img2.dcm  \n",
        "&nbsp;&nbsp;&nbsp;&nbsp;&nbsp;&nbsp;&nbsp;....  \n",
        "&nbsp;&nbsp;&nbsp;&nbsp;&nbsp;&nbsp;&nbsp;....  "
      ]
    },
    {
      "cell_type": "code",
      "execution_count": 2,
      "metadata": {
        "id": "-B-XrWTGa4sG"
      },
      "outputs": [],
      "source": [
        "import os\n",
        "# Set work dir base path\n",
        "workDir = r'/content' #for Colab"
      ]
    },
    {
      "cell_type": "code",
      "execution_count": 3,
      "metadata": {
        "id": "kjpbxEVspDru"
      },
      "outputs": [],
      "source": [
        "%%capture\n",
        "! pip install \"pyCERR @ git+https://github.com/cerr/pyCERR.git@testing\""
      ]
    },
    {
      "cell_type": "markdown",
      "metadata": {
        "id": "uKyePuucYlbA"
      },
      "source": [
        "# Paths to input planning CT, temporary, and  output directories"
      ]
    },
    {
      "cell_type": "code",
      "execution_count": null,
      "metadata": {
        "id": "iHMVsmeI5zUo"
      },
      "outputs": [],
      "source": [
        "#location of input DICOM folders\n",
        "inputDicomPath = os.path.join(workDir,'input')\n",
        "if not os.path.exists(inputDicomPath):\n",
        "  os.mkdir(inputDicomPath)\n",
        "\n",
        "#location of output RTSTRUCT file\n",
        "outputDicomPath = os.path.join(workDir, 'output')\n",
        "if not os.path.exists(outputDicomPath):\n",
        "  os.mkdir(outputDicomPath)\n",
        "\n",
        "#temp session directory\n",
        "sessionPath = os.path.join(workDir, 'session')\n",
        "if not os.path.exists(sessionPath):\n",
        "  os.mkdir(sessionPath)"
      ]
    },
    {
      "cell_type": "markdown",
      "metadata": {
        "id": "WsUQs2huow2B"
      },
      "source": [
        "# Install trained model"
      ]
    },
    {
      "cell_type": "markdown",
      "metadata": {
        "id": "C9oPBXz8tphw"
      },
      "source": [
        "### Python environment, model weights and dependencies are installed via the [model_installer](https://github.com/cerr/model_installer/) tool."
      ]
    },
    {
      "cell_type": "code",
      "execution_count": null,
      "metadata": {
        "id": "3n6yb9MnMvcy"
      },
      "outputs": [],
      "source": [
        "os.chdir(workDir)\n",
        "!git clone https://github.com/cerr/model_installer.git\n",
        "os.chdir(os.path.join(workDir,'model_installer'))\n",
        "!./installer.sh -h"
      ]
    },
    {
      "cell_type": "code",
      "execution_count": null,
      "metadata": {
        "id": "W9ahoQbgjKVt"
      },
      "outputs": [],
      "source": [
        "%%capture\n",
        "modelOpt = '1' #CT_cardiac_structures_deeplab\n",
        "pythonOpt = 'C' #download and use pre-packaged Conda environment\n",
        "\n",
        "! source ./installer.sh -m {modelOpt} -d {workDir} -p {pythonOpt}"
      ]
    },
    {
      "cell_type": "code",
      "execution_count": null,
      "metadata": {
        "id": "xGQcTj20Mvcy"
      },
      "outputs": [],
      "source": [
        "# Segmentation wrapper paths\n",
        "wrapperInstallDir = os.path.join(workDir, 'CT_cardiac_structures_deeplab')\n",
        "wrapperPath = os.path.join(wrapperInstallDir, 'model_wrapper','runSegmentation.py')\n",
        "\n",
        "# Location of Heart OAR conda environment\n",
        "condaEnvDir = os.path.join(workDir, 'CT_cardiac_structures_deeplab','conda-pack')\n",
        "\n",
        "# Path to conda environment activate script\n",
        "condaActivateScript = os.path.join(condaEnvDir, 'bin', 'activate')"
      ]
    },
    {
      "cell_type": "markdown",
      "metadata": {
        "id": "sfcIIiLQsgcM"
      },
      "source": [
        "# Function Definitions: Data pre- and post-processing using pyCERR"
      ]
    },
    {
      "cell_type": "markdown",
      "metadata": {
        "id": "1m955pAJsgcN"
      },
      "source": [
        "## `processInputData`: Crop scan to Lung extents"
      ]
    },
    {
      "cell_type": "code",
      "execution_count": null,
      "metadata": {
        "id": "FAXBqkTasgcN"
      },
      "outputs": [],
      "source": [
        "from cerr.dataclasses import structure as cerrStr\n",
        "from cerr.contour import rasterseg as rs\n",
        "from cerr.utils import mask\n",
        "import numpy as np\n",
        "\n",
        "def processInputData(scanNum, planC, lungNameList=['LUNG_TOTAL', 'LUNG_L', 'LUNG_R']):\n",
        "\n",
        "    if isinstance(lungNameList, str):\n",
        "        lungNameList = [lungNameList]\n",
        "\n",
        "    # Extract scanArray\n",
        "    scan3M = planC.scan[scanNum].getScanArray()\n",
        "    mask3M = np.zeros(scan3M.shape, dtype=bool)\n",
        "\n",
        "    # List of Structure names\n",
        "    strNames = [s.structureName for s in planC.structure]\n",
        "    numOrigStructs = len(strNames)\n",
        "\n",
        "    # Get total lung mask\n",
        "    for lungName in lungNameList:\n",
        "        lungInd = cerrStr.getMatchingIndex(lungName.upper(), strNames, 'exact')\n",
        "        assocScansV = [scn.getScanNumFromUID(planC.structure[idx].assocScanUID, planC) for idx in lungInd]\n",
        "        validLungInd = lungInd[assocScansV==scanNum]\n",
        "        if not isinstance(validLungInd,list):\n",
        "        validLungInd = [validLungInd]\n",
        "        if len(validLungInd) > 1:\n",
        "             print('Warning! Multiple matching structures found. Using last match (strNum:{})'.format(lungInd[-1]))\n",
        "        # Get lung extents\n",
        "        mask3M = mask3M | rs.getStrMask(lungInd[-1], planC)\n",
        "\n",
        "    if not np.any(mask3M):\n",
        "        raise Exception('Lung contour name did not match any structures in planC')\n",
        "\n",
        "    # Create cropped scan\n",
        "    rmin,rmax,cmin,cmax,smin,smax,_ = mask.computeBoundingBox(mask3M)\n",
        "    x,y,z = planC.scan[scanNum].getScanXYZVals()\n",
        "    xCropV = x[cmin:cmax]\n",
        "    yCropV = y[rmin:rmax]\n",
        "    zCropV = z[smin:smax]\n",
        "    scan3M = planC.scan[scanNum].getScanArray()\n",
        "    scanCrop3M = scan3M[rmin:rmax,cmin:cmax,smin:smax]\n",
        "\n",
        "    return scanCrop3M, (xCropV, yCropV, zCropV)\n"
      ]
    },
    {
      "cell_type": "markdown",
      "metadata": {
        "id": "C1KHjP1LsgcO"
      },
      "source": [
        "## `postProcAndImportSeg`: Import AI segmentations to planC and retain only the largest connected component for each structure"
      ]
    },
    {
      "cell_type": "code",
      "execution_count": null,
      "metadata": {
        "id": "W_GjRVWtsgcP"
      },
      "outputs": [],
      "source": [
        "#Import label map to CERR\n",
        "from glob import glob\n",
        "from cerr import plan_container as pc\n",
        "from cerr.dataclasses import structure as cerrStr\n",
        "\n",
        "atriaLabelDict = {1: 'DL_Atria'}\n",
        "heartSubSegDict = {2: 'DL_AORTA', 3: 'DL_LA',\n",
        "                   4: 'DL_LV', 5: 'DL_RA',\n",
        "                   6: 'DL_RV', 7: 'DL_IVC',\n",
        "                   8: 'DL_SVC', 9: 'DL_PA'}\n",
        "heartSegDict = {1: 'DL_heart'}\n",
        "periLabelDict = {1: 'DL_Pericardium'}\n",
        "ventriLabelDict = {1: 'DL_Ventricles'}\n",
        "\n",
        "def postProcAndImportSeg(outputDir,procScanNum,scanNum,planC):\n",
        "    niiGlob = glob(os.path.join(outputDir,'*.nii.gz'))\n",
        "    for segFile in niiGlob:\n",
        "        print('Importing ' + segFile + '...')\n",
        "        # Get segFile name\n",
        "        if 'heart.nii.gz' in segFile:\n",
        "            strToLabelMap = heartSubSegDict\n",
        "        elif 'heartStructure.nii.gz' in segFile:\n",
        "            strToLabelMap = heartSegDict\n",
        "        elif 'atria.nii.gz' in segFile:\n",
        "            strToLabelMap = atriaLabelDict\n",
        "        elif 'pericardium.nii.gz' in segFile:\n",
        "            strToLabelMap = periLabelDict\n",
        "        elif 'ventricles.nii.gz' in segFile:\n",
        "            strToLabelMap = ventriLabelDict\n",
        "\n",
        "        # Import structures to cropped scan\n",
        "        numLabel = len(strToLabelMap)\n",
        "        numStrOrig = len(planC.structure)\n",
        "        planC = pc.loadNiiStructure(segFile, procScanNum, planC, \\\n",
        "                                  labels_dict=strToLabelMap)\n",
        "        numStructs = len(planC.structure)\n",
        "\n",
        "        # Post-processing\n",
        "        cpyStrNumV = np.arange(numStrOrig,numStructs)\n",
        "        numConnComponents = 1\n",
        "        for structNum in cpyStrNumV:\n",
        "            # Copy to original scan\n",
        "            planC = cerrStr.copyToScan(structNum, scanNum, planC)\n",
        "            cpyStrNum = len(planC.structure)-1\n",
        "            _, planC = cerrStr.getLargestConnComps(cpyStrNum, numConnComponents, planC, \\\n",
        "                                            saveFlag=True, replaceFlag=True)\n",
        "\n",
        "    return planC"
      ]
    },
    {
      "cell_type": "markdown",
      "metadata": {
        "id": "zj7t-J4isgcQ"
      },
      "source": [
        "# Run Segmentation: Generate OARs for all the CT scan folders located at `inputDicomPath`"
      ]
    },
    {
      "cell_type": "code",
      "execution_count": null,
      "metadata": {
        "id": "WCuUi5D6sgcS"
      },
      "outputs": [],
      "source": [
        "#%%capture\n",
        "import subprocess\n",
        "import numpy as np\n",
        "import cerr\n",
        "from cerr import plan_container as pc\n",
        "from cerr.dataclasses import scan as cerrScn\n",
        "from cerr.utils.ai_pipeline import createSessionDir, getScanNumFromIdentifier\n",
        "from cerr.dcm_export import rtstruct_iod\n",
        "\n",
        "modality = 'CT SCAN'\n",
        "lungNameList = ['LUNG_TOTAL', 'LUNG_CNTR', 'LUNG_IPSI'] #List lung contour name(s)\n",
        "\n",
        "# Loop over DICOM data folders\n",
        "folderList = glob(os.path.join(inputDicomPath,'*'))\n",
        "\n",
        "for dcmDir in folderList:\n",
        "\n",
        "    fname = os.path.basename(dcmDir)\n",
        "    # Create session dir to store temporary data\n",
        "    modInputPath, modOutputPath = createSessionDir(sessionPath, dcmDir)\n",
        "\n",
        "    # Import DICOM to planC\n",
        "    planC = pc.loadDcmDir(dcmDir)\n",
        "\n",
        "    # Identify scan index in  planC\n",
        "    scanIdS = {\"imageType\": modality}\n",
        "    matchScanV = getScanNumFromIdentifier(scanIdS, planC, False)\n",
        "    scanNum = matchScanV[0]\n",
        "\n",
        "    # Pre-process data\n",
        "    procScan3M, resizeGridS = processInputData(scanNum, planC, lungNameList)\n",
        "    planC = pc.importScanArray(procScan3M, resizeGridS[0], \\\n",
        "            resizeGridS[1], resizeGridS[2], modality, scanNum, planC)\n",
        "    procScanNum = len(planC.scan) - 1\n",
        "\n",
        "    # Export inputs to NIfTI\n",
        "    scanFilename = os.path.join(modInputPath, f\"{fname}_scan_3D.nii.gz\")\n",
        "    planC.scan[procScanNum].saveNii(scanFilename)\n",
        "\n",
        "    numOrigStructs = len(planC.structure)\n",
        "\n",
        "    # Apply model\n",
        "    runScript = \"source \" + condaActivateScript + \" && python \" + wrapperPath \\\n",
        "                  + \" \" + modInputPath + \" \" + modOutputPath\n",
        "    print(runScript)\n",
        "    subprocess.run(runScript,\n",
        "                 capture_output=False,\n",
        "                  shell=True,\n",
        "                  executable=\"/bin/bash\")\n",
        "\n",
        "    # Import results to planC\n",
        "    planC = postProcAndImportSeg(modOutputPath, procScanNum, scanNum, planC)\n",
        "\n",
        "    numStructs = len(planC.structure)\n",
        "\n",
        "    # Export segmentations to DICOM\n",
        "    structFileName = fname + '_AI_seg_RTSTRUCT.dcm'\n",
        "    structFilePath = os.path.join(outputDicomPath,structFileName)\n",
        "    structNumV = np.arange(numOrigStructs, numStructs)\n",
        "    indOrigV = np.array([cerrScn.getScanNumFromUID(planC.structure[structNum].assocScanUID, planC) for structNum in structNumV], dtype=int)\n",
        "    origIndsToExportV = structNumV[indOrigV == scanNum]\n",
        "    seriesDescription = \"pyCERR CT_Heart_OAR AI-Generated\"\n",
        "    exportOpts = {'seriesDescription': seriesDescription}\n",
        "    rtstruct_iod.create(origIndsToExportV,structFilePath,planC,exportOpts)"
      ]
    },
    {
      "cell_type": "markdown",
      "metadata": {
        "id": "p9acQK9uMvc6"
      },
      "source": [
        "# Optional - Offload the `outputDicomPath` to GCP Workspace bucket"
      ]
    },
    {
      "cell_type": "code",
      "execution_count": null,
      "metadata": {
        "id": "W_TV3xhIMvc6"
      },
      "outputs": [],
      "source": [
        "# workspaceBucket = os.environ['WORKSPACE_BUCKET']\n",
        "# !gcloud storage cp -r {outputDicomPath} {workspaceBucket}"
      ]
    },
    {
      "cell_type": "markdown",
      "metadata": {
        "id": "iLzFp-l_sgcT"
      },
      "source": [
        "# Visualize results for the last CT scan using Napari Viewer"
      ]
    },
    {
      "cell_type": "markdown",
      "metadata": {
        "id": "L8FTwNqhsgcT"
      },
      "source": [
        "## Display using `matplotlib`"
      ]
    },
    {
      "cell_type": "code",
      "execution_count": null,
      "metadata": {
        "id": "zJEkPNT6Mvc6"
      },
      "outputs": [],
      "source": [
        "from cerr.viewer import showMplNb\n",
        "showMplNb(planC=planC, scan_nums=scanNum,\n",
        "          struct_nums=origIndsToExportV,\n",
        "          windowCenter=-400, windowWidth=2000)"
      ]
    }
  ],
  "metadata": {
    "accelerator": "GPU",
    "colab": {
      "gpuType": "T4",
      "provenance": []
    },
    "kernelspec": {
      "display_name": "Python 3 (ipykernel)",
      "language": "python",
      "name": "python3"
    },
    "language_info": {
      "codemirror_mode": {
        "name": "ipython",
        "version": 3
      },
      "file_extension": ".py",
      "mimetype": "text/x-python",
      "name": "python",
      "nbconvert_exporter": "python",
      "pygments_lexer": "ipython3",
      "version": "3.11.7"
    },
    "toc": {
      "base_numbering": 1,
      "nav_menu": {},
      "number_sections": true,
      "sideBar": true,
      "skip_h1_title": false,
      "title_cell": "Table of Contents",
      "title_sidebar": "Contents",
      "toc_cell": false,
      "toc_position": {},
      "toc_section_display": true,
      "toc_window_display": false
    }
  },
  "nbformat": 4,
  "nbformat_minor": 0
}
