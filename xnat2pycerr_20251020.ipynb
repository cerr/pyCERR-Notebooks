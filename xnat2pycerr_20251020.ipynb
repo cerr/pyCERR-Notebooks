{
  "nbformat": 4,
  "nbformat_minor": 0,
  "metadata": {
    "colab": {
      "provenance": [],
      "gpuType": "T4"
    },
    "kernelspec": {
      "name": "python3",
      "display_name": "Python 3"
    },
    "language_info": {
      "name": "python"
    },
    "accelerator": "GPU"
  },
  "cells": [
    {
      "cell_type": "markdown",
      "source": [
        "#XNAT download and CUDA-powered SMIT rectal segmentation"
      ],
      "metadata": {
        "id": "hT9mvBCX0YXo"
      }
    },
    {
      "cell_type": "markdown",
      "source": [
        "##Install python and system prerequisites"
      ],
      "metadata": {
        "id": "zrjMIq4o0Qt6"
      }
    },
    {
      "cell_type": "code",
      "source": [
        "import os"
      ],
      "metadata": {
        "id": "29vOeO9km-uB"
      },
      "execution_count": null,
      "outputs": []
    },
    {
      "cell_type": "code",
      "source": [
        "%%capture\n",
        "!pip install pyxnat\n",
        "!pip install \"pyCERR[napari] @ git+https://github.com/cerr/pyCERR.git\"\n",
        "!pip install sevenbridges-python"
      ],
      "metadata": {
        "id": "y7joLIEvm3Hb"
      },
      "execution_count": null,
      "outputs": []
    },
    {
      "cell_type": "markdown",
      "source": [
        "##Download T2 sequence from XNAT"
      ],
      "metadata": {
        "id": "Ds4-OyGm0V5j"
      }
    },
    {
      "cell_type": "code",
      "execution_count": null,
      "metadata": {
        "id": "IoZPoDmPmX-E"
      },
      "outputs": [],
      "source": [
        "from pyxnat import Interface\n",
        "from glob import glob\n",
        "import shutil\n",
        "\n",
        "\n",
        "def getXNATData(xhost,user,scandict,downloadDir):\n",
        "  xnat = Interface(xhost, user)\n",
        "  os.makedirs(downloadDir, exist_ok=True)\n",
        "  expdirlist = []\n",
        "  for scan_entry in scandict:\n",
        "    proj = scan_entry['exam']['proj']\n",
        "    subj = scan_entry['exam']['subj']\n",
        "    exp = scan_entry['exam']['exp']\n",
        "    scan_list = scan_entry['exam']['scan_list']\n",
        "    expdir = os.path.join(downloadDir,exp)\n",
        "    expdirlist.append(expdir)\n",
        "    os.makedirs(expdir, exist_ok = True)\n",
        "    xexp = xnat.select.project(proj).subject(subj).experiment(exp)\n",
        "    for scan in scan_list:\n",
        "      xres = xnat.select.project(proj).subject(subj).experiment(exp).scan(scan).resource('DICOM')\n",
        "      if not xres.exists():\n",
        "        xres = xnat.select.project(proj).subject(subj).experiment(exp).scan(scan).resource('secondary')\n",
        "      xres.get(downloadDir,extract=True)\n",
        "    for dcmfolder in ['DICOM','secondary']:\n",
        "      dcmlist = glob(os.path.join(downloadDir,dcmfolder,'*.dcm'))\n",
        "      print(dcmlist)\n",
        "      for dcm in dcmlist:\n",
        "        shutil.move(dcm, expdir)\n",
        "  for dcmfolder in ['DICOM','secondary']:\n",
        "    if os.path.exists(os.path.join(downloadDir,dcmfolder)):\n",
        "      os.rmdir(os.path.join(downloadDir,dcmfolder))\n",
        "    if os.path.exists(os.path.join(downloadDir,dcmfolder + '.zip')):\n",
        "      os.remove(os.path.join(downloadDir,dcmfolder + '.zip'))\n",
        "  xnat.disconnect()\n",
        "  return expdirlist\n"
      ]
    },
    {
      "cell_type": "code",
      "source": [
        "xhost = 'https://pixnat.mskcc.org'\n",
        "user = ''\n",
        "\n",
        "#example of dictionary to describe the data you want to pull locally from XNAT,\n",
        "# one entry per experiment, iterate over scans\n",
        "scandict = [{'exam':\n",
        "              {'proj':'ROBIN_MCT1',\n",
        "                'subj':'25121-01',\n",
        "                'exp':'',\n",
        "                'scan_list':['501']\n",
        "                }\n",
        "            }]\n",
        "\n",
        "dataPath = '/content/images'\n",
        "os.makedirs(dataPath,exist_ok=True)"
      ],
      "metadata": {
        "id": "6BHjee-7m1su"
      },
      "execution_count": null,
      "outputs": []
    },
    {
      "cell_type": "code",
      "source": [
        "folderList = getXNATData(xhost,user,scandict,dataPath)"
      ],
      "metadata": {
        "id": "jLjfvS4VprTr"
      },
      "execution_count": null,
      "outputs": []
    },
    {
      "cell_type": "markdown",
      "source": [
        "##Import T2 DICOM to planC and save to NIfTI for segmentation"
      ],
      "metadata": {
        "id": "jt2Pk-u30Jhb"
      }
    },
    {
      "cell_type": "code",
      "source": [
        "from cerr import plan_container as pc"
      ],
      "metadata": {
        "id": "KxKyDWTqoUQo"
      },
      "execution_count": null,
      "outputs": []
    },
    {
      "cell_type": "code",
      "source": [
        "# Import DICOM to planC\n",
        "\n",
        "planC = pc.loadDcmDir(folderList[0])"
      ],
      "metadata": {
        "id": "mK3nJMXEo-gN"
      },
      "execution_count": null,
      "outputs": []
    },
    {
      "cell_type": "code",
      "source": [
        "os.makedirs('/content/images/nifti', exist_ok=True)\n",
        "planC.scan[0].saveNii('/content/images/nifti/scan6.nii')"
      ],
      "metadata": {
        "id": "-e2jZI8ND7w9"
      },
      "execution_count": null,
      "outputs": []
    },
    {
      "cell_type": "markdown",
      "source": [
        "## Install SMIT model via `model_installer`"
      ],
      "metadata": {
        "id": "9_zO_v9UERTl"
      }
    },
    {
      "cell_type": "code",
      "source": [
        "!cd /content && git clone https://github.com/cerr/model_installer.git"
      ],
      "metadata": {
        "id": "raiBlZSMAWPF"
      },
      "execution_count": null,
      "outputs": []
    },
    {
      "cell_type": "code",
      "source": [
        "os.chdir('/content/model_installer')\n",
        "! source installer.sh -h"
      ],
      "metadata": {
        "id": "VvOdXySOAaHM"
      },
      "execution_count": null,
      "outputs": []
    },
    {
      "cell_type": "code",
      "source": [
        "from getpass import getpass\n",
        "tok = getpass()"
      ],
      "metadata": {
        "id": "rC2uWKRVBgcP"
      },
      "execution_count": null,
      "outputs": []
    },
    {
      "cell_type": "code",
      "source": [
        "! ./installer.sh -m 10 -p N -d /content -u {tok}"
      ],
      "metadata": {
        "id": "CYLImQ8dAgcD"
      },
      "execution_count": null,
      "outputs": []
    },
    {
      "cell_type": "code",
      "source": [
        "uvpath = '/content/MR_Rectum_GTV_SMIT/.venv39'"
      ],
      "metadata": {
        "id": "UBGNhq4FB2k8"
      },
      "execution_count": null,
      "outputs": []
    },
    {
      "cell_type": "code",
      "source": [
        "!uv venv --python-preference only-managed -p 3.9 {uvpath}"
      ],
      "metadata": {
        "id": "nw2AyRITAr1c"
      },
      "execution_count": null,
      "outputs": []
    },
    {
      "cell_type": "code",
      "source": [
        "%%bash\n",
        "for rfile in `ls /content/MR_Rectum_GTV_SMIT/requirements/*`\n",
        "do\n",
        "  uv pip install -n -p /content/MR_Rectum_GTV_SMIT/.venv39 -r $rfile\n",
        "done"
      ],
      "metadata": {
        "id": "2f07FHs7Bt2H"
      },
      "execution_count": null,
      "outputs": []
    },
    {
      "cell_type": "code",
      "source": [
        "data_input = '/content/images/nifti'\n",
        "seg_output = '/content/images/nifti'\n",
        "load_weight = '/content/MR_Rectum_GTV_SMIT/trained_weights/model_final.pt'\n",
        "!chmod -R 777 /content/MR_Rectum_GTV_SMIT"
      ],
      "metadata": {
        "id": "y98nclbJCT6R"
      },
      "execution_count": null,
      "outputs": []
    },
    {
      "cell_type": "code",
      "source": [
        "os.chdir('/content/MR_Rectum_GTV_SMIT')\n",
        "! uv run -p {uvpath} ./bash_run_SMIT_Segmentation.sh {data_input} {seg_output} {load_weight}"
      ],
      "metadata": {
        "id": "YEXPU-KVEaGM"
      },
      "execution_count": null,
      "outputs": []
    },
    {
      "cell_type": "markdown",
      "source": [
        "## Import NIfTI segmentation mask to planC"
      ],
      "metadata": {
        "id": "EwA6nF2_0Fn6"
      }
    },
    {
      "cell_type": "code",
      "source": [
        "from glob import glob\n",
        "\n",
        "structNiiFileName = glob('/content/images/nifti/model*.nii')\n",
        "niiFileName = structNiiFileName[0]\n",
        "assocScanNum = 0\n",
        "labelDict = {1: 'GTV'}\n",
        "planC = pc.loadNiiStructure(niiFileName, assocScanNum, planC, labelDict)"
      ],
      "metadata": {
        "id": "OeVztCKGEpm1"
      },
      "execution_count": null,
      "outputs": []
    },
    {
      "cell_type": "markdown",
      "source": [
        "## Visualize segmentation in Napari"
      ],
      "metadata": {
        "id": "rkneyl6xDMbn"
      }
    },
    {
      "cell_type": "code",
      "source": [
        "from cerr.viewer import showMplNb\n",
        "scanNum = 0\n",
        "struct_nums=[0]\n",
        "showMplNb(planC=planC, scanNum=scanNum,\n",
        "          structNums=struct_nums,\n",
        "          windowCenter=-400, windowWidth=2000)"
      ],
      "metadata": {
        "id": "30C8EGZ7DL5D"
      },
      "execution_count": null,
      "outputs": []
    }
  ]
}